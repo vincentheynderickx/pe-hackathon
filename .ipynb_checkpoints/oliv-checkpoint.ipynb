{
 "cells": [
  {
   "cell_type": "code",
   "execution_count": 1,
   "id": "b8b81ad3-4cf7-4444-9d35-cd6191812b7d",
   "metadata": {},
   "outputs": [],
   "source": [
    "import matplotlib.pyplot as plt\n",
    "import pandas as pd\n",
    "import numpy as np\n",
    "import IPython\n",
    "\n",
    "def courbe_depuis_DF(df):\n",
    "    df.plt()\n",
    "    plt.xlabel(df.loc[0,0])\n",
    "    plt.show()\n",
    "\n",
    "def nuage_pt(df):\n",
    "    L=df.columns.to_list()\n",
    "    X=df[L[0]].to_list()\n",
    "    Y=df[L[1]].to_list()\n",
    "    plt.plot(X,Y)\n",
    "    plt.xlabel(L[0])\n",
    "    plt.ylabel(L[1])\n",
    "    plt.show()\n",
    "\n",
    "df = pd.read_csv('data.csv')\n"
   ]
  },
  {
   "cell_type": "code",
   "execution_count": null,
   "id": "c6f56821-b4b5-48b3-9846-b66eebac6ef0",
   "metadata": {},
   "outputs": [],
   "source": []
  }
 ],
 "metadata": {
  "kernelspec": {
   "display_name": "Python 3 (ipykernel)",
   "language": "python",
   "name": "python3"
  },
  "language_info": {
   "codemirror_mode": {
    "name": "ipython",
    "version": 3
   },
   "file_extension": ".py",
   "mimetype": "text/x-python",
   "name": "python",
   "nbconvert_exporter": "python",
   "pygments_lexer": "ipython3",
   "version": "3.11.4"
  }
 },
 "nbformat": 4,
 "nbformat_minor": 5
}
