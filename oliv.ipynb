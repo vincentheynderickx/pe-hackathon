{
 "cells": [
  {
   "cell_type": "code",
   "execution_count": 3,
   "id": "b8b81ad3-4cf7-4444-9d35-cd6191812b7d",
   "metadata": {},
   "outputs": [
    {
     "ename": "AttributeError",
     "evalue": "module 'pandas' has no attribute 'df'",
     "output_type": "error",
     "traceback": [
      "\u001b[0;31m---------------------------------------------------------------------------\u001b[0m",
      "\u001b[0;31mAttributeError\u001b[0m                            Traceback (most recent call last)",
      "Cell \u001b[0;32mIn[3], line 21\u001b[0m\n\u001b[1;32m     18\u001b[0m     plt\u001b[38;5;241m.\u001b[39mshow()\n\u001b[1;32m     20\u001b[0m df \u001b[38;5;241m=\u001b[39m pd\u001b[38;5;241m.\u001b[39mread_csv(\u001b[38;5;124m'\u001b[39m\u001b[38;5;124mdata.csv\u001b[39m\u001b[38;5;124m'\u001b[39m)\n\u001b[0;32m---> 21\u001b[0m \u001b[43mcourbe_depuis_DF\u001b[49m\u001b[43m(\u001b[49m\u001b[43mdf\u001b[49m\u001b[43m)\u001b[49m\n",
      "Cell \u001b[0;32mIn[3], line 7\u001b[0m, in \u001b[0;36mcourbe_depuis_DF\u001b[0;34m(df)\u001b[0m\n\u001b[1;32m      6\u001b[0m \u001b[38;5;28;01mdef\u001b[39;00m \u001b[38;5;21mcourbe_depuis_DF\u001b[39m(df):\n\u001b[0;32m----> 7\u001b[0m     \u001b[43mpd\u001b[49m\u001b[38;5;241;43m.\u001b[39;49m\u001b[43mdf\u001b[49m\u001b[38;5;241m.\u001b[39mplt()\n\u001b[1;32m      8\u001b[0m     plt\u001b[38;5;241m.\u001b[39mxlabel(df\u001b[38;5;241m.\u001b[39mloc[\u001b[38;5;241m0\u001b[39m,\u001b[38;5;241m0\u001b[39m])\n\u001b[1;32m      9\u001b[0m     plt\u001b[38;5;241m.\u001b[39mshow()\n",
      "\u001b[0;31mAttributeError\u001b[0m: module 'pandas' has no attribute 'df'"
     ]
    }
   ],
   "source": [
    "import matplotlib.pyplot as plt\n",
    "import pandas as pd\n",
    "import numpy as np\n",
    "import IPython\n",
    "\n",
    "def courbe_depuis_DF(df):\n",
    "    pd.df.plt()\n",
    "    plt.xlabel(df.loc[0,0])\n",
    "    plt.show()\n",
    "\n",
    "def nuage_pt(df):\n",
    "    L=df.columns.to_list()\n",
    "    X=df[L[0]].to_list()\n",
    "    Y=df[L[1]].to_list()\n",
    "    plt.plot(X,Y)\n",
    "    plt.xlabel(L[0])\n",
    "    plt.ylabel(L[1])\n",
    "    plt.show()\n",
    "\n",
    "df = pd.read_csv('data.csv')\n",
    "courbe_depuis_DF(df)"
   ]
  },
  {
   "cell_type": "code",
   "execution_count": null,
   "id": "c6f56821-b4b5-48b3-9846-b66eebac6ef0",
   "metadata": {},
   "outputs": [],
   "source": []
  }
 ],
 "metadata": {
  "kernelspec": {
   "display_name": "Python 3 (ipykernel)",
   "language": "python",
   "name": "python3"
  },
  "language_info": {
   "codemirror_mode": {
    "name": "ipython",
    "version": 3
   },
   "file_extension": ".py",
   "mimetype": "text/x-python",
   "name": "python",
   "nbconvert_exporter": "python",
   "pygments_lexer": "ipython3",
   "version": "3.11.4"
  }
 },
 "nbformat": 4,
 "nbformat_minor": 5
}
