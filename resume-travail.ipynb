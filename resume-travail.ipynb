{
 "cells": [
  {
   "cell_type": "markdown",
   "metadata": {},
   "source": [
    "# Le bonheur"
   ]
  },
  {
   "cell_type": "markdown",
   "metadata": {},
   "source": []
  },
  {
   "cell_type": "markdown",
   "metadata": {},
   "source": [
    "## Cartes intéractives"
   ]
  },
  {
   "cell_type": "markdown",
   "metadata": {},
   "source": [
    "### Carte du bonheur pour différentes années dans le monde"
   ]
  },
  {
   "cell_type": "markdown",
   "metadata": {},
   "source": [
    "Ici un programme qui crée les cartes du bonheur des pays pour différentes années.\n",
    "\n",
    "Les résulatats sont présents dans le dossier cartes du répo et à ouvrir avec le navigateur"
   ]
  },
  {
   "cell_type": "code",
   "execution_count": 2,
   "metadata": {},
   "outputs": [],
   "source": [
    "import pandas as pd\n",
    "import numpy as np\n",
    "import matplotlib as plt\n",
    "import folium"
   ]
  },
  {
   "cell_type": "code",
   "execution_count": 3,
   "metadata": {},
   "outputs": [],
   "source": [
    "political_countries_url = (\n",
    "    \"http://geojson.xyz/naturalearth-3.3.0/ne_50m_admin_0_countries.geojson\"\n",
    ")"
   ]
  },
  {
   "cell_type": "code",
   "execution_count": 4,
   "metadata": {},
   "outputs": [],
   "source": [
    "df=pd.read_csv('data.csv',decimal=',')"
   ]
  },
  {
   "cell_type": "code",
   "execution_count": null,
   "metadata": {},
   "outputs": [],
   "source": [
    "info_affichee = \"Life Ladder\"\n",
    "\n",
    "\n",
    "for year in range(2020,2023):\n",
    "    m = folium.Map(location=(30, 10), zoom_start=3, tiles=\"cartodb positron\")\n",
    "    folium.Choropleth(\n",
    "        geo_data=political_countries_url,\n",
    "        data=df.loc[df['year'] == year],\n",
    "        columns=[\"Country name\", info_affichee],\n",
    "        key_on=\"feature.properties.name\",\n",
    "        fill_color=\"RdYlGn_r\",\n",
    "        fill_opacity=0.8,\n",
    "        line_opacity=0.3,\n",
    "        nan_fill_color=\"white\",\n",
    "        legend_name=\"Bonheur\",\n",
    "    ).add_to(m)\n",
    "    m.save(f\"cartes/carte_{info_affichee}_{year}.html\")"
   ]
  },
  {
   "cell_type": "markdown",
   "metadata": {},
   "source": [
    "### Carte de l'évolution du bonheur moyen entre les périodes [2005-2010] et [2015-2020]"
   ]
  },
  {
   "cell_type": "markdown",
   "metadata": {},
   "source": [
    "Les résultats sont présents dans le dossier carte sous le nom carte_difference"
   ]
  },
  {
   "cell_type": "code",
   "execution_count": 8,
   "metadata": {},
   "outputs": [],
   "source": [
    "info_affichee = \"Life Ladder\"\n",
    "\n",
    "df_2005_2010 = df[(df['year'] >= 2005) & (df['year'] <= 2010)]\n",
    "df_2015_2020 = df[(df['year'] >= 2015) & (df['year'] <= 2020)]\n",
    "\n",
    "mean_2005_2010 = df_2005_2010.groupby('Country name')[info_affichee].mean()\n",
    "mean_2015_2020 = df_2015_2020.groupby('Country name')[info_affichee].mean()\n",
    "\n",
    "difference = mean_2015_2020 - mean_2005_2010\n",
    "\n",
    "m = folium.Map(location=(30, 10), zoom_start=3, tiles=\"cartodb positron\")\n",
    "\n",
    "folium.Choropleth(\n",
    "    geo_data=political_countries_url,\n",
    "    data=difference.reset_index(),\n",
    "    columns=[\"Country name\", info_affichee],\n",
    "    key_on=\"feature.properties.name\",\n",
    "    fill_color=\"RdYlGn_r\",\n",
    "    fill_opacity=0.8,\n",
    "    line_opacity=0.3,\n",
    "    nan_fill_color=\"white\",\n",
    "    legend_name=\"Evolution du bonheur moyen entre les périodes [2005-2010] et [2015-2020]\",\n",
    ").add_to(m)\n",
    "\n",
    "m.save(\"carte/carte_difference_bonheur.html\")"
   ]
  },
  {
   "cell_type": "markdown",
   "metadata": {},
   "source": [
    "Les résultats ici sont très intéressants car on remarque par exemple qu'un pays comme le Venezuela a connu une très forte baisse de son bonheur moyen"
   ]
  },
  {
   "cell_type": "markdown",
   "metadata": {},
   "source": [
    "## Corrélations entre les paramètres"
   ]
  },
  {
   "cell_type": "markdown",
   "metadata": {},
   "source": [
    "df = pd.read_csv('data.csv',decimal=',')\n",
    "df.dropna(axis=0,how='any',inplace=True)"
   ]
  },
  {
   "cell_type": "code",
   "execution_count": null,
   "metadata": {},
   "outputs": [],
   "source": [
    "def nuage_pt_tous_pays(df):\n",
    "    L=df.columns.to_list()\n",
    "    X=df[L[0]].to_list()\n",
    "    Y=df[L[1]].to_list()\n",
    "    plt.plot(X,Y, 'ob')\n",
    "    plt.xlabel(L[0])\n",
    "    plt.ylabel(L[1])\n",
    "    coef=np.polyfit(X,Y, 1)\n",
    "    def droite(t):\n",
    "        return(coef[1]+coef[0]*t)\n",
    "    L=[droite(t)for t in X]\n",
    "    plt.plot(X,L, c='r')\n",
    "    plt.show()\n",
    "\n",
    "def courbe(df):\n",
    "    L=df.columns.to_list()\n",
    "    x=df.index.to_list()\n",
    "    M=['b', 'r', 'y', 'g', 'm', 'k']\n",
    "    fig, axs = plt.subplots(len(L), 1)\n",
    "    for k in range (len(L)):\n",
    "        X=df[L[k]].to_list()\n",
    "        axs[k].plot(x, X, c=M[k])\n",
    "        plt.legend([L[k]])\n",
    "    plt.xlabel('year')\n",
    "    plt.show()\n",
    "    print(L)"
   ]
  },
  {
   "cell_type": "markdown",
   "metadata": {},
   "source": [
    "### Evolution des paramètres au Bangladesh"
   ]
  },
  {
   "cell_type": "code",
   "execution_count": null,
   "metadata": {},
   "outputs": [],
   "source": [
    "dfbangladesh = df[df['Country name'] == 'Bangladesh']\n",
    "dfbangladesh.set_index('year',inplace=True)\n",
    "dfbangladesh1 = dfbangladesh[['Life Ladder','Log GDP per capita','Social support','Healthy life expectancy at birth','Freedom to make life choices','Perceptions of corruption']]\n",
    "courbe_un_pays(dfbangladesh1)"
   ]
  },
  {
   "cell_type": "markdown",
   "metadata": {},
   "source": [
    "### Corrélation entre le niveau de vie et le pib dans le monde en 2022"
   ]
  },
  {
   "cell_type": "code",
   "execution_count": null,
   "metadata": {},
   "outputs": [],
   "source": [
    "df1=df[df['year'] == 2022]\n",
    "df1.set_index('Country name',inplace = True)\n",
    "df2 = df1[['Life Ladder','Log GDP per capita']]\n",
    "nuage_pt_tous_pays(df2)"
   ]
  },
  {
   "cell_type": "markdown",
   "metadata": {},
   "source": [
    "### Corrélation entre l'espérance de vie et le pib dans le monde en 2020"
   ]
  },
  {
   "cell_type": "code",
   "execution_count": null,
   "metadata": {},
   "outputs": [],
   "source": [
    "df3=df[df['year'] == 2020]\n",
    "df3.set_index('Country name',inplace = True)\n",
    "df4 = df3[['Healthy life expectancy at birth','Log GDP per capita']]\n",
    "nuage_pt_tous_pays(df4)"
   ]
  },
  {
   "cell_type": "markdown",
   "metadata": {},
   "source": [
    "### Image de l'évolution du niveau de vie global dans le monde"
   ]
  },
  {
   "cell_type": "code",
   "execution_count": null,
   "metadata": {},
   "outputs": [],
   "source": [
    "lst=df['year'].unique()\n",
    "niveau_vie=[]\n",
    "for annee in lst:\n",
    "    niveau_vie.append(df['Life Ladder'][df['year']==annee].mean())\n",
    "df5=pd.DataFrame(list(zip(lst,niveau_vie)),columns=['year','Global Life Ladder'])\n",
    "df5 = df5[df5['year']!=2005]\n",
    "nuage_pt_tous_pays(df5)"
   ]
  },
  {
   "cell_type": "markdown",
   "metadata": {},
   "source": [
    "### Corrélation entre la liberté de faire des choix et le niveau de vie dans le monde en 2022"
   ]
  },
  {
   "cell_type": "code",
   "execution_count": null,
   "metadata": {},
   "outputs": [],
   "source": [
    "df6=df[df['year'] == 2022]\n",
    "df6.set_index('Country name',inplace = True)\n",
    "df7 = df6[['Freedom to make life choices','Life Ladder']]\n",
    "nuage_pt_tous_pays(df7)"
   ]
  }
 ],
 "metadata": {
  "kernelspec": {
   "display_name": "Python 3 (ipykernel)",
   "language": "python",
   "name": "python3"
  },
  "language_info": {
   "codemirror_mode": {
    "name": "ipython",
    "version": 3
   },
   "file_extension": ".py",
   "mimetype": "text/x-python",
   "name": "python",
   "nbconvert_exporter": "python",
   "pygments_lexer": "ipython3",
   "version": "3.11.4"
  }
 },
 "nbformat": 4,
 "nbformat_minor": 4
}
