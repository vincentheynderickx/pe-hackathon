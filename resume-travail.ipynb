{
 "cells": [
  {
   "cell_type": "markdown",
   "metadata": {},
   "source": [
    "# Le bonheur"
   ]
  },
  {
   "cell_type": "markdown",
   "metadata": {},
   "source": []
  },
  {
   "cell_type": "markdown",
   "metadata": {},
   "source": [
    "## Cartes intéractives"
   ]
  },
  {
   "cell_type": "markdown",
   "metadata": {},
   "source": [
    "### Carte du bonheur pour différentes années dans le monde"
   ]
  },
  {
   "cell_type": "markdown",
   "metadata": {},
   "source": [
    "Ici un programme qui crée les cartes du bonheur des pays pour différentes années.\n",
    "\n",
    "Les résulatats sont présents dans le dossier cartes du répo et à ouvrir avec le navigateur"
   ]
  },
  {
   "cell_type": "code",
   "execution_count": 2,
   "metadata": {},
   "outputs": [],
   "source": [
    "import pandas as pd\n",
    "import numpy as np\n",
    "import folium"
   ]
  },
  {
   "cell_type": "code",
   "execution_count": 3,
   "metadata": {},
   "outputs": [],
   "source": [
    "political_countries_url = (\n",
    "    \"http://geojson.xyz/naturalearth-3.3.0/ne_50m_admin_0_countries.geojson\"\n",
    ")"
   ]
  },
  {
   "cell_type": "code",
   "execution_count": 4,
   "metadata": {},
   "outputs": [],
   "source": [
    "df=pd.read_csv('data.csv',decimal=',')"
   ]
  },
  {
   "cell_type": "code",
   "execution_count": null,
   "metadata": {},
   "outputs": [],
   "source": [
    "info_affichee = \"Life Ladder\"\n",
    "\n",
    "\n",
    "for year in range(2020,2023):\n",
    "    m = folium.Map(location=(30, 10), zoom_start=3, tiles=\"cartodb positron\")\n",
    "    folium.Choropleth(\n",
    "        geo_data=political_countries_url,\n",
    "        data=df.loc[df['year'] == year],\n",
    "        columns=[\"Country name\", info_affichee],\n",
    "        key_on=\"feature.properties.name\",\n",
    "        fill_color=\"RdYlGn_r\",\n",
    "        fill_opacity=0.8,\n",
    "        line_opacity=0.3,\n",
    "        nan_fill_color=\"white\",\n",
    "        legend_name=\"Bonheur\",\n",
    "    ).add_to(m)\n",
    "    m.save(f\"cartes/carte_{info_affichee}_{year}.html\")"
   ]
  },
  {
   "cell_type": "markdown",
   "metadata": {},
   "source": [
    "### Carte de l'évolution du bonheur moyen entre les périodes [2005-2010] et [2015-2020]"
   ]
  },
  {
   "cell_type": "markdown",
   "metadata": {},
   "source": [
    "Les résultats sont présents dans le dossier carte sous le nom carte_difference"
   ]
  },
  {
   "cell_type": "code",
   "execution_count": 8,
   "metadata": {},
   "outputs": [],
   "source": [
    "info_affichee = \"Life Ladder\"\n",
    "\n",
    "df_2005_2010 = df[(df['year'] >= 2005) & (df['year'] <= 2010)]\n",
    "df_2015_2020 = df[(df['year'] >= 2015) & (df['year'] <= 2020)]\n",
    "\n",
    "mean_2005_2010 = df_2005_2010.groupby('Country name')[info_affichee].mean()\n",
    "mean_2015_2020 = df_2015_2020.groupby('Country name')[info_affichee].mean()\n",
    "\n",
    "difference = mean_2015_2020 - mean_2005_2010\n",
    "\n",
    "m = folium.Map(location=(30, 10), zoom_start=3, tiles=\"cartodb positron\")\n",
    "\n",
    "folium.Choropleth(\n",
    "    geo_data=political_countries_url,\n",
    "    data=difference.reset_index(),\n",
    "    columns=[\"Country name\", info_affichee],\n",
    "    key_on=\"feature.properties.name\",\n",
    "    fill_color=\"RdYlGn_r\",\n",
    "    fill_opacity=0.8,\n",
    "    line_opacity=0.3,\n",
    "    nan_fill_color=\"white\",\n",
    "    legend_name=\"Evolution du bonheur moyen entre les périodes [2005-2010] et [2015-2020]\",\n",
    ").add_to(m)\n",
    "\n",
    "m.save(\"carte/carte_difference_bonheur.html\")"
   ]
  },
  {
   "cell_type": "markdown",
   "metadata": {},
   "source": [
    "Les résultats ici sont très intéressants car on remarque par exemple qu'un pays comme le Venezuela a connu une très forte baisse de son bonheur moyen"
   ]
  }
 ],
 "metadata": {
  "kernelspec": {
   "display_name": "Python 3 (ipykernel)",
   "language": "python",
   "name": "python3"
  },
  "language_info": {
   "codemirror_mode": {
    "name": "ipython",
    "version": 3
   },
   "file_extension": ".py",
   "mimetype": "text/x-python",
   "name": "python",
   "nbconvert_exporter": "python",
   "pygments_lexer": "ipython3",
   "version": "3.11.4"
  }
 },
 "nbformat": 4,
 "nbformat_minor": 4
}
