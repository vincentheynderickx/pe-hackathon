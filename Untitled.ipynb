{
 "cells": [
  {
   "cell_type": "code",
   "execution_count": 23,
   "id": "49c33579-50f0-4510-9cae-1d81a952a3c2",
   "metadata": {},
   "outputs": [],
   "source": [
    "import pandas as pd\n",
    "import numpy as np \n",
    "\n",
    "df=pd.read_csv('data.csv',index_col='Country name',decimal=',')\n",
    "\n",
    "df.columns=['Annee', 'Bonheur', 'Log_PIB', 'Support_social',\n",
    "       'Esperance_de_vie', 'Liberte',\n",
    "       'Generosite', 'Corruption', 'Positive_affect',\n",
    "       'Negative_affect']\n",
    "df=df.replace(',','.')\n",
    "\n",
    "df1=df.sort_values('Annee')\n",
    "    \n",
    "L=[i for i in range(2005,2023)]\n",
    "df2005=df['Annee']==2005"
   ]
  },
  {
   "cell_type": "code",
   "execution_count": 25,
   "id": "fa9bca16-fa6c-4f0c-852c-92441d66c4fd",
   "metadata": {},
   "outputs": [
    {
     "data": {
      "text/html": [
       "<div>\n",
       "<style scoped>\n",
       "    .dataframe tbody tr th:only-of-type {\n",
       "        vertical-align: middle;\n",
       "    }\n",
       "\n",
       "    .dataframe tbody tr th {\n",
       "        vertical-align: top;\n",
       "    }\n",
       "\n",
       "    .dataframe thead th {\n",
       "        text-align: right;\n",
       "    }\n",
       "</style>\n",
       "<table border=\"1\" class=\"dataframe\">\n",
       "  <thead>\n",
       "    <tr style=\"text-align: right;\">\n",
       "      <th></th>\n",
       "      <th>Continent</th>\n",
       "    </tr>\n",
       "    <tr>\n",
       "      <th>Nom français</th>\n",
       "      <th></th>\n",
       "    </tr>\n",
       "  </thead>\n",
       "  <tbody>\n",
       "    <tr>\n",
       "      <th>Afghanistan</th>\n",
       "      <td>Asie</td>\n",
       "    </tr>\n",
       "    <tr>\n",
       "      <th>Afrique du Sud</th>\n",
       "      <td>Afrique</td>\n",
       "    </tr>\n",
       "    <tr>\n",
       "      <th>Åland (les Îles)</th>\n",
       "      <td>Europe</td>\n",
       "    </tr>\n",
       "    <tr>\n",
       "      <th>Albanie</th>\n",
       "      <td>Europe</td>\n",
       "    </tr>\n",
       "    <tr>\n",
       "      <th>Algérie</th>\n",
       "      <td>Afrique</td>\n",
       "    </tr>\n",
       "    <tr>\n",
       "      <th>...</th>\n",
       "      <td>...</td>\n",
       "    </tr>\n",
       "    <tr>\n",
       "      <th>Viet Nam</th>\n",
       "      <td>Asie</td>\n",
       "    </tr>\n",
       "    <tr>\n",
       "      <th>Wallis-et-Futuna</th>\n",
       "      <td>Océanie</td>\n",
       "    </tr>\n",
       "    <tr>\n",
       "      <th>Yémen</th>\n",
       "      <td>Asie</td>\n",
       "    </tr>\n",
       "    <tr>\n",
       "      <th>Zambie</th>\n",
       "      <td>Afrique</td>\n",
       "    </tr>\n",
       "    <tr>\n",
       "      <th>Zimbabwe</th>\n",
       "      <td>Afrique</td>\n",
       "    </tr>\n",
       "  </tbody>\n",
       "</table>\n",
       "<p>249 rows × 1 columns</p>\n",
       "</div>"
      ],
      "text/plain": [
       "                 Continent\n",
       "Nom français              \n",
       "Afghanistan           Asie\n",
       "Afrique du Sud     Afrique\n",
       "Åland (les Îles)    Europe\n",
       "Albanie             Europe\n",
       "Algérie            Afrique\n",
       "...                    ...\n",
       "Viet Nam              Asie\n",
       "Wallis-et-Futuna   Océanie\n",
       "Yémen                 Asie\n",
       "Zambie             Afrique\n",
       "Zimbabwe           Afrique\n",
       "\n",
       "[249 rows x 1 columns]"
      ]
     },
     "execution_count": 25,
     "metadata": {},
     "output_type": "execute_result"
    }
   ],
   "source": [
    "df2=pd.read_csv('Liste-Excel-des-pays-du-monde-gratuit-capitales-continent-nationalites.csv',usecols=['Nom français','Continent'],index_col='Nom français')\n",
    "df2\n"
   ]
  },
  {
   "cell_type": "code",
   "execution_count": null,
   "id": "fc82a078-3620-4fd7-ad87-64e7147eaa59",
   "metadata": {},
   "outputs": [],
   "source": [
    "df['Continent']=df2["
   ]
  },
  {
   "cell_type": "code",
   "execution_count": null,
   "id": "f34c2a19-beca-40ff-8e23-cb22182190b6",
   "metadata": {},
   "outputs": [],
   "source": []
  },
  {
   "cell_type": "code",
   "execution_count": null,
   "id": "f5306ba3-48b5-4e60-b8c5-cb188fe11ad7",
   "metadata": {},
   "outputs": [],
   "source": []
  }
 ],
 "metadata": {
  "kernelspec": {
   "display_name": "Python 3 (ipykernel)",
   "language": "python",
   "name": "python3"
  },
  "language_info": {
   "codemirror_mode": {
    "name": "ipython",
    "version": 3
   },
   "file_extension": ".py",
   "mimetype": "text/x-python",
   "name": "python",
   "nbconvert_exporter": "python",
   "pygments_lexer": "ipython3",
   "version": "3.11.4"
  }
 },
 "nbformat": 4,
 "nbformat_minor": 5
}
