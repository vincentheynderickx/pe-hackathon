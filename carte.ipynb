{
 "cells": [
  {
   "cell_type": "code",
   "execution_count": 47,
   "metadata": {},
   "outputs": [],
   "source": [
    "import pandas as pd\n",
    "import numpy as np\n",
    "import folium"
   ]
  },
  {
   "cell_type": "code",
   "execution_count": 48,
   "metadata": {},
   "outputs": [],
   "source": [
    "political_countries_url = (\n",
    "    \"http://geojson.xyz/naturalearth-3.3.0/ne_50m_admin_0_countries.geojson\"\n",
    ")"
   ]
  },
  {
   "cell_type": "code",
   "execution_count": 73,
   "metadata": {},
   "outputs": [],
   "source": [
    "df=pd.read_csv('data.csv',decimal=',')"
   ]
  },
  {
   "cell_type": "code",
   "execution_count": 72,
   "metadata": {},
   "outputs": [],
   "source": [
    "info_affichee = \"Life Ladder\"\n",
    "\n",
    "\n",
    "for year in range(2020,2023):\n",
    "    m = folium.Map(location=(30, 10), zoom_start=3, tiles=\"cartodb positron\")\n",
    "    folium.Choropleth(\n",
    "        geo_data=political_countries_url,\n",
    "        data=df.loc[df['year'] == year],\n",
    "        columns=[\"Country name\", info_affichee],\n",
    "        key_on=\"feature.properties.name\",\n",
    "        fill_color=\"RdYlGn_r\",\n",
    "        fill_opacity=0.8,\n",
    "        line_opacity=0.3,\n",
    "        nan_fill_color=\"white\",\n",
    "        legend_name=\"Bonheur\",\n",
    "    ).add_to(m)\n",
    "    m.save(f\"cartes/carte_{info_affichee}_{year}.html\")"
   ]
  }
 ],
 "metadata": {
  "kernelspec": {
   "display_name": "base",
   "language": "python",
   "name": "python3"
  },
  "language_info": {
   "codemirror_mode": {
    "name": "ipython",
    "version": 3
   },
   "file_extension": ".py",
   "mimetype": "text/x-python",
   "name": "python",
   "nbconvert_exporter": "python",
   "pygments_lexer": "ipython3",
   "version": "3.11.4"
  }
 },
 "nbformat": 4,
 "nbformat_minor": 2
}
